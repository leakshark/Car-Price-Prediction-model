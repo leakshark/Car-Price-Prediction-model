{
 "cells": [
  {
   "cell_type": "code",
   "execution_count": 146,
   "id": "96d82254-8ad2-4270-bf89-8c7618cf71b4",
   "metadata": {},
   "outputs": [],
   "source": [
    "import pandas as pd\n",
    "import matplotlib.pyplot as plt\n",
    "import seaborn as sns\n",
    "import numpy as np\n",
    "from sklearn.linear_model import LinearRegression\n",
    "from sklearn.metrics import r2_score\n",
    "from sklearn.preprocessing import OneHotEncoder\n",
    "from sklearn.compose import make_column_transformer\n",
    "from sklearn.pipeline import make_pipeline\n",
    "from sklearn.model_selection import train_test_split\n",
    "sns.set_theme(style=\"whitegrid\")\n",
    "\n",
    "data = pd.read_csv('Sport car price.csv')"
   ]
  },
  {
   "cell_type": "code",
   "execution_count": 70,
   "id": "9c951f8e-7257-4c34-ae27-598373ff09cb",
   "metadata": {},
   "outputs": [
    {
     "data": {
      "text/html": [
       "<div>\n",
       "<style scoped>\n",
       "    .dataframe tbody tr th:only-of-type {\n",
       "        vertical-align: middle;\n",
       "    }\n",
       "\n",
       "    .dataframe tbody tr th {\n",
       "        vertical-align: top;\n",
       "    }\n",
       "\n",
       "    .dataframe thead th {\n",
       "        text-align: right;\n",
       "    }\n",
       "</style>\n",
       "<table border=\"1\" class=\"dataframe\">\n",
       "  <thead>\n",
       "    <tr style=\"text-align: right;\">\n",
       "      <th></th>\n",
       "      <th>Car Make</th>\n",
       "      <th>Car Model</th>\n",
       "      <th>Year</th>\n",
       "      <th>Engine Size (L)</th>\n",
       "      <th>Horsepower</th>\n",
       "      <th>Torque (lb-ft)</th>\n",
       "      <th>0-60 MPH Time (seconds)</th>\n",
       "      <th>Price (in USD)</th>\n",
       "    </tr>\n",
       "  </thead>\n",
       "  <tbody>\n",
       "    <tr>\n",
       "      <th>0</th>\n",
       "      <td>Porsche</td>\n",
       "      <td>911</td>\n",
       "      <td>2022</td>\n",
       "      <td>3</td>\n",
       "      <td>379</td>\n",
       "      <td>331</td>\n",
       "      <td>4</td>\n",
       "      <td>101,200</td>\n",
       "    </tr>\n",
       "    <tr>\n",
       "      <th>1</th>\n",
       "      <td>Lamborghini</td>\n",
       "      <td>Huracan</td>\n",
       "      <td>2021</td>\n",
       "      <td>5.2</td>\n",
       "      <td>630</td>\n",
       "      <td>443</td>\n",
       "      <td>2.8</td>\n",
       "      <td>274,390</td>\n",
       "    </tr>\n",
       "    <tr>\n",
       "      <th>2</th>\n",
       "      <td>Ferrari</td>\n",
       "      <td>488 GTB</td>\n",
       "      <td>2022</td>\n",
       "      <td>3.9</td>\n",
       "      <td>661</td>\n",
       "      <td>561</td>\n",
       "      <td>3</td>\n",
       "      <td>333,750</td>\n",
       "    </tr>\n",
       "    <tr>\n",
       "      <th>3</th>\n",
       "      <td>Audi</td>\n",
       "      <td>R8</td>\n",
       "      <td>2022</td>\n",
       "      <td>5.2</td>\n",
       "      <td>562</td>\n",
       "      <td>406</td>\n",
       "      <td>3.2</td>\n",
       "      <td>142,700</td>\n",
       "    </tr>\n",
       "    <tr>\n",
       "      <th>4</th>\n",
       "      <td>McLaren</td>\n",
       "      <td>720S</td>\n",
       "      <td>2021</td>\n",
       "      <td>4</td>\n",
       "      <td>710</td>\n",
       "      <td>568</td>\n",
       "      <td>2.7</td>\n",
       "      <td>298,000</td>\n",
       "    </tr>\n",
       "    <tr>\n",
       "      <th>...</th>\n",
       "      <td>...</td>\n",
       "      <td>...</td>\n",
       "      <td>...</td>\n",
       "      <td>...</td>\n",
       "      <td>...</td>\n",
       "      <td>...</td>\n",
       "      <td>...</td>\n",
       "      <td>...</td>\n",
       "    </tr>\n",
       "    <tr>\n",
       "      <th>1002</th>\n",
       "      <td>Koenigsegg</td>\n",
       "      <td>Jesko</td>\n",
       "      <td>2022</td>\n",
       "      <td>5</td>\n",
       "      <td>1280</td>\n",
       "      <td>1106</td>\n",
       "      <td>2.5</td>\n",
       "      <td>3,000,000</td>\n",
       "    </tr>\n",
       "    <tr>\n",
       "      <th>1003</th>\n",
       "      <td>Lotus</td>\n",
       "      <td>Evija</td>\n",
       "      <td>2021</td>\n",
       "      <td>Electric Motor</td>\n",
       "      <td>1972</td>\n",
       "      <td>1254</td>\n",
       "      <td>2</td>\n",
       "      <td>2,000,000</td>\n",
       "    </tr>\n",
       "    <tr>\n",
       "      <th>1004</th>\n",
       "      <td>McLaren</td>\n",
       "      <td>Senna</td>\n",
       "      <td>2021</td>\n",
       "      <td>4</td>\n",
       "      <td>789</td>\n",
       "      <td>590</td>\n",
       "      <td>2.7</td>\n",
       "      <td>1,000,000</td>\n",
       "    </tr>\n",
       "    <tr>\n",
       "      <th>1005</th>\n",
       "      <td>Pagani</td>\n",
       "      <td>Huayra</td>\n",
       "      <td>2021</td>\n",
       "      <td>6</td>\n",
       "      <td>764</td>\n",
       "      <td>738</td>\n",
       "      <td>3</td>\n",
       "      <td>2,600,000</td>\n",
       "    </tr>\n",
       "    <tr>\n",
       "      <th>1006</th>\n",
       "      <td>Rimac</td>\n",
       "      <td>Nevera</td>\n",
       "      <td>2021</td>\n",
       "      <td>Electric Motor</td>\n",
       "      <td>1888</td>\n",
       "      <td>1696</td>\n",
       "      <td>1.85</td>\n",
       "      <td>2,400,000</td>\n",
       "    </tr>\n",
       "  </tbody>\n",
       "</table>\n",
       "<p>1007 rows × 8 columns</p>\n",
       "</div>"
      ],
      "text/plain": [
       "         Car Make Car Model  Year Engine Size (L) Horsepower Torque (lb-ft)  \\\n",
       "0         Porsche       911  2022               3        379            331   \n",
       "1     Lamborghini   Huracan  2021             5.2        630            443   \n",
       "2         Ferrari   488 GTB  2022             3.9        661            561   \n",
       "3            Audi        R8  2022             5.2        562            406   \n",
       "4         McLaren      720S  2021               4        710            568   \n",
       "...           ...       ...   ...             ...        ...            ...   \n",
       "1002   Koenigsegg     Jesko  2022               5       1280           1106   \n",
       "1003        Lotus     Evija  2021  Electric Motor       1972           1254   \n",
       "1004      McLaren     Senna  2021               4        789            590   \n",
       "1005       Pagani    Huayra  2021               6        764            738   \n",
       "1006        Rimac    Nevera  2021  Electric Motor       1888           1696   \n",
       "\n",
       "     0-60 MPH Time (seconds) Price (in USD)  \n",
       "0                          4        101,200  \n",
       "1                        2.8        274,390  \n",
       "2                          3        333,750  \n",
       "3                        3.2        142,700  \n",
       "4                        2.7        298,000  \n",
       "...                      ...            ...  \n",
       "1002                     2.5      3,000,000  \n",
       "1003                       2      2,000,000  \n",
       "1004                     2.7      1,000,000  \n",
       "1005                       3      2,600,000  \n",
       "1006                    1.85      2,400,000  \n",
       "\n",
       "[1007 rows x 8 columns]"
      ]
     },
     "execution_count": 70,
     "metadata": {},
     "output_type": "execute_result"
    }
   ],
   "source": [
    "data\n"
   ]
  },
  {
   "cell_type": "code",
   "execution_count": 71,
   "id": "9f3334a7-c250-49bc-aff3-2cbd04e23489",
   "metadata": {},
   "outputs": [
    {
     "data": {
      "text/plain": [
       "Car Make                    0\n",
       "Car Model                   0\n",
       "Year                        0\n",
       "Engine Size (L)            10\n",
       "Horsepower                  0\n",
       "Torque (lb-ft)              3\n",
       "0-60 MPH Time (seconds)     0\n",
       "Price (in USD)              0\n",
       "dtype: int64"
      ]
     },
     "execution_count": 71,
     "metadata": {},
     "output_type": "execute_result"
    }
   ],
   "source": [
    "data.isnull().sum()"
   ]
  },
  {
   "cell_type": "code",
   "execution_count": 72,
   "id": "147fae30-86d5-4867-a1a6-604965135698",
   "metadata": {},
   "outputs": [],
   "source": [
    "data = data.drop(columns = '0-60 MPH Time (seconds)',axis =1)"
   ]
  },
  {
   "cell_type": "code",
   "execution_count": 73,
   "id": "8e7bdaf8-4c44-46d3-9628-3f3613936731",
   "metadata": {},
   "outputs": [
    {
     "name": "stdout",
     "output_type": "stream",
     "text": [
      "<class 'pandas.core.frame.DataFrame'>\n",
      "RangeIndex: 1007 entries, 0 to 1006\n",
      "Data columns (total 7 columns):\n",
      " #   Column           Non-Null Count  Dtype \n",
      "---  ------           --------------  ----- \n",
      " 0   Car Make         1007 non-null   object\n",
      " 1   Car Model        1007 non-null   object\n",
      " 2   Year             1007 non-null   int64 \n",
      " 3   Engine Size (L)  997 non-null    object\n",
      " 4   Horsepower       1007 non-null   object\n",
      " 5   Torque (lb-ft)   1004 non-null   object\n",
      " 6   Price (in USD)   1007 non-null   object\n",
      "dtypes: int64(1), object(6)\n",
      "memory usage: 55.2+ KB\n"
     ]
    }
   ],
   "source": [
    "data.info()"
   ]
  },
  {
   "cell_type": "code",
   "execution_count": 74,
   "id": "7d89445c-d34e-4472-a78d-cfc9beeae5ad",
   "metadata": {},
   "outputs": [],
   "source": [
    "data['Price (in USD)'] = data['Price (in USD)'].str.replace(',','')"
   ]
  },
  {
   "cell_type": "code",
   "execution_count": 75,
   "id": "3505ba4c-82fa-469f-b367-3aa170173d8e",
   "metadata": {},
   "outputs": [],
   "source": [
    "data['Price (in USD)'] = data['Price (in USD)'].astype(int)"
   ]
  },
  {
   "cell_type": "code",
   "execution_count": 76,
   "id": "4f72a366-c438-4920-b685-345eeaeefd0b",
   "metadata": {},
   "outputs": [
    {
     "name": "stdout",
     "output_type": "stream",
     "text": [
      "<class 'pandas.core.frame.DataFrame'>\n",
      "RangeIndex: 1007 entries, 0 to 1006\n",
      "Data columns (total 7 columns):\n",
      " #   Column           Non-Null Count  Dtype \n",
      "---  ------           --------------  ----- \n",
      " 0   Car Make         1007 non-null   object\n",
      " 1   Car Model        1007 non-null   object\n",
      " 2   Year             1007 non-null   int64 \n",
      " 3   Engine Size (L)  997 non-null    object\n",
      " 4   Horsepower       1007 non-null   object\n",
      " 5   Torque (lb-ft)   1004 non-null   object\n",
      " 6   Price (in USD)   1007 non-null   int64 \n",
      "dtypes: int64(2), object(5)\n",
      "memory usage: 55.2+ KB\n"
     ]
    }
   ],
   "source": [
    "data.info()"
   ]
  },
  {
   "cell_type": "code",
   "execution_count": 77,
   "id": "beb8e33b-57e6-40b8-bd44-26464298af79",
   "metadata": {},
   "outputs": [
    {
     "data": {
      "text/html": [
       "<div>\n",
       "<style scoped>\n",
       "    .dataframe tbody tr th:only-of-type {\n",
       "        vertical-align: middle;\n",
       "    }\n",
       "\n",
       "    .dataframe tbody tr th {\n",
       "        vertical-align: top;\n",
       "    }\n",
       "\n",
       "    .dataframe thead th {\n",
       "        text-align: right;\n",
       "    }\n",
       "</style>\n",
       "<table border=\"1\" class=\"dataframe\">\n",
       "  <thead>\n",
       "    <tr style=\"text-align: right;\">\n",
       "      <th></th>\n",
       "      <th>Car Make</th>\n",
       "      <th>Car Model</th>\n",
       "      <th>Year</th>\n",
       "      <th>Engine Size (L)</th>\n",
       "      <th>Horsepower</th>\n",
       "      <th>Torque (lb-ft)</th>\n",
       "      <th>Price (in USD)</th>\n",
       "    </tr>\n",
       "  </thead>\n",
       "  <tbody>\n",
       "    <tr>\n",
       "      <th>0</th>\n",
       "      <td>Porsche</td>\n",
       "      <td>911</td>\n",
       "      <td>2022</td>\n",
       "      <td>3</td>\n",
       "      <td>379</td>\n",
       "      <td>331</td>\n",
       "      <td>101200</td>\n",
       "    </tr>\n",
       "    <tr>\n",
       "      <th>1</th>\n",
       "      <td>Lamborghini</td>\n",
       "      <td>Huracan</td>\n",
       "      <td>2021</td>\n",
       "      <td>5.2</td>\n",
       "      <td>630</td>\n",
       "      <td>443</td>\n",
       "      <td>274390</td>\n",
       "    </tr>\n",
       "    <tr>\n",
       "      <th>2</th>\n",
       "      <td>Ferrari</td>\n",
       "      <td>488 GTB</td>\n",
       "      <td>2022</td>\n",
       "      <td>3.9</td>\n",
       "      <td>661</td>\n",
       "      <td>561</td>\n",
       "      <td>333750</td>\n",
       "    </tr>\n",
       "    <tr>\n",
       "      <th>3</th>\n",
       "      <td>Audi</td>\n",
       "      <td>R8</td>\n",
       "      <td>2022</td>\n",
       "      <td>5.2</td>\n",
       "      <td>562</td>\n",
       "      <td>406</td>\n",
       "      <td>142700</td>\n",
       "    </tr>\n",
       "    <tr>\n",
       "      <th>4</th>\n",
       "      <td>McLaren</td>\n",
       "      <td>720S</td>\n",
       "      <td>2021</td>\n",
       "      <td>4</td>\n",
       "      <td>710</td>\n",
       "      <td>568</td>\n",
       "      <td>298000</td>\n",
       "    </tr>\n",
       "    <tr>\n",
       "      <th>...</th>\n",
       "      <td>...</td>\n",
       "      <td>...</td>\n",
       "      <td>...</td>\n",
       "      <td>...</td>\n",
       "      <td>...</td>\n",
       "      <td>...</td>\n",
       "      <td>...</td>\n",
       "    </tr>\n",
       "    <tr>\n",
       "      <th>1002</th>\n",
       "      <td>Koenigsegg</td>\n",
       "      <td>Jesko</td>\n",
       "      <td>2022</td>\n",
       "      <td>5</td>\n",
       "      <td>1280</td>\n",
       "      <td>1106</td>\n",
       "      <td>3000000</td>\n",
       "    </tr>\n",
       "    <tr>\n",
       "      <th>1003</th>\n",
       "      <td>Lotus</td>\n",
       "      <td>Evija</td>\n",
       "      <td>2021</td>\n",
       "      <td>Electric Motor</td>\n",
       "      <td>1972</td>\n",
       "      <td>1254</td>\n",
       "      <td>2000000</td>\n",
       "    </tr>\n",
       "    <tr>\n",
       "      <th>1004</th>\n",
       "      <td>McLaren</td>\n",
       "      <td>Senna</td>\n",
       "      <td>2021</td>\n",
       "      <td>4</td>\n",
       "      <td>789</td>\n",
       "      <td>590</td>\n",
       "      <td>1000000</td>\n",
       "    </tr>\n",
       "    <tr>\n",
       "      <th>1005</th>\n",
       "      <td>Pagani</td>\n",
       "      <td>Huayra</td>\n",
       "      <td>2021</td>\n",
       "      <td>6</td>\n",
       "      <td>764</td>\n",
       "      <td>738</td>\n",
       "      <td>2600000</td>\n",
       "    </tr>\n",
       "    <tr>\n",
       "      <th>1006</th>\n",
       "      <td>Rimac</td>\n",
       "      <td>Nevera</td>\n",
       "      <td>2021</td>\n",
       "      <td>Electric Motor</td>\n",
       "      <td>1888</td>\n",
       "      <td>1696</td>\n",
       "      <td>2400000</td>\n",
       "    </tr>\n",
       "  </tbody>\n",
       "</table>\n",
       "<p>1007 rows × 7 columns</p>\n",
       "</div>"
      ],
      "text/plain": [
       "         Car Make Car Model  Year Engine Size (L) Horsepower Torque (lb-ft)  \\\n",
       "0         Porsche       911  2022               3        379            331   \n",
       "1     Lamborghini   Huracan  2021             5.2        630            443   \n",
       "2         Ferrari   488 GTB  2022             3.9        661            561   \n",
       "3            Audi        R8  2022             5.2        562            406   \n",
       "4         McLaren      720S  2021               4        710            568   \n",
       "...           ...       ...   ...             ...        ...            ...   \n",
       "1002   Koenigsegg     Jesko  2022               5       1280           1106   \n",
       "1003        Lotus     Evija  2021  Electric Motor       1972           1254   \n",
       "1004      McLaren     Senna  2021               4        789            590   \n",
       "1005       Pagani    Huayra  2021               6        764            738   \n",
       "1006        Rimac    Nevera  2021  Electric Motor       1888           1696   \n",
       "\n",
       "      Price (in USD)  \n",
       "0             101200  \n",
       "1             274390  \n",
       "2             333750  \n",
       "3             142700  \n",
       "4             298000  \n",
       "...              ...  \n",
       "1002         3000000  \n",
       "1003         2000000  \n",
       "1004         1000000  \n",
       "1005         2600000  \n",
       "1006         2400000  \n",
       "\n",
       "[1007 rows x 7 columns]"
      ]
     },
     "execution_count": 77,
     "metadata": {},
     "output_type": "execute_result"
    }
   ],
   "source": [
    "data"
   ]
  },
  {
   "cell_type": "code",
   "execution_count": 78,
   "id": "72685c2c-d9a6-4663-8e28-f294253619ad",
   "metadata": {},
   "outputs": [],
   "source": [
    "data  = data.drop(columns = 'Torque (lb-ft)',axis=1)"
   ]
  },
  {
   "cell_type": "code",
   "execution_count": 79,
   "id": "3f63e80d-8fd8-4454-91e3-117667c3a7ca",
   "metadata": {},
   "outputs": [
    {
     "name": "stdout",
     "output_type": "stream",
     "text": [
      "<class 'pandas.core.frame.DataFrame'>\n",
      "RangeIndex: 1007 entries, 0 to 1006\n",
      "Data columns (total 6 columns):\n",
      " #   Column           Non-Null Count  Dtype \n",
      "---  ------           --------------  ----- \n",
      " 0   Car Make         1007 non-null   object\n",
      " 1   Car Model        1007 non-null   object\n",
      " 2   Year             1007 non-null   int64 \n",
      " 3   Engine Size (L)  997 non-null    object\n",
      " 4   Horsepower       1007 non-null   object\n",
      " 5   Price (in USD)   1007 non-null   int64 \n",
      "dtypes: int64(2), object(4)\n",
      "memory usage: 47.3+ KB\n"
     ]
    }
   ],
   "source": [
    "data.info()"
   ]
  },
  {
   "cell_type": "code",
   "execution_count": 80,
   "id": "2a0000ad-3136-45af-85af-e615ce06d6e6",
   "metadata": {},
   "outputs": [
    {
     "data": {
      "text/html": [
       "<div>\n",
       "<style scoped>\n",
       "    .dataframe tbody tr th:only-of-type {\n",
       "        vertical-align: middle;\n",
       "    }\n",
       "\n",
       "    .dataframe tbody tr th {\n",
       "        vertical-align: top;\n",
       "    }\n",
       "\n",
       "    .dataframe thead th {\n",
       "        text-align: right;\n",
       "    }\n",
       "</style>\n",
       "<table border=\"1\" class=\"dataframe\">\n",
       "  <thead>\n",
       "    <tr style=\"text-align: right;\">\n",
       "      <th></th>\n",
       "      <th>Car Make</th>\n",
       "      <th>Car Model</th>\n",
       "      <th>Year</th>\n",
       "      <th>Engine Size (L)</th>\n",
       "      <th>Horsepower</th>\n",
       "      <th>Price (in USD)</th>\n",
       "    </tr>\n",
       "  </thead>\n",
       "  <tbody>\n",
       "    <tr>\n",
       "      <th>0</th>\n",
       "      <td>Porsche</td>\n",
       "      <td>911</td>\n",
       "      <td>2022</td>\n",
       "      <td>3</td>\n",
       "      <td>379</td>\n",
       "      <td>101200</td>\n",
       "    </tr>\n",
       "    <tr>\n",
       "      <th>1</th>\n",
       "      <td>Lamborghini</td>\n",
       "      <td>Huracan</td>\n",
       "      <td>2021</td>\n",
       "      <td>5.2</td>\n",
       "      <td>630</td>\n",
       "      <td>274390</td>\n",
       "    </tr>\n",
       "    <tr>\n",
       "      <th>2</th>\n",
       "      <td>Ferrari</td>\n",
       "      <td>488 GTB</td>\n",
       "      <td>2022</td>\n",
       "      <td>3.9</td>\n",
       "      <td>661</td>\n",
       "      <td>333750</td>\n",
       "    </tr>\n",
       "    <tr>\n",
       "      <th>3</th>\n",
       "      <td>Audi</td>\n",
       "      <td>R8</td>\n",
       "      <td>2022</td>\n",
       "      <td>5.2</td>\n",
       "      <td>562</td>\n",
       "      <td>142700</td>\n",
       "    </tr>\n",
       "    <tr>\n",
       "      <th>4</th>\n",
       "      <td>McLaren</td>\n",
       "      <td>720S</td>\n",
       "      <td>2021</td>\n",
       "      <td>4</td>\n",
       "      <td>710</td>\n",
       "      <td>298000</td>\n",
       "    </tr>\n",
       "    <tr>\n",
       "      <th>...</th>\n",
       "      <td>...</td>\n",
       "      <td>...</td>\n",
       "      <td>...</td>\n",
       "      <td>...</td>\n",
       "      <td>...</td>\n",
       "      <td>...</td>\n",
       "    </tr>\n",
       "    <tr>\n",
       "      <th>1002</th>\n",
       "      <td>Koenigsegg</td>\n",
       "      <td>Jesko</td>\n",
       "      <td>2022</td>\n",
       "      <td>5</td>\n",
       "      <td>1280</td>\n",
       "      <td>3000000</td>\n",
       "    </tr>\n",
       "    <tr>\n",
       "      <th>1003</th>\n",
       "      <td>Lotus</td>\n",
       "      <td>Evija</td>\n",
       "      <td>2021</td>\n",
       "      <td>Electric Motor</td>\n",
       "      <td>1972</td>\n",
       "      <td>2000000</td>\n",
       "    </tr>\n",
       "    <tr>\n",
       "      <th>1004</th>\n",
       "      <td>McLaren</td>\n",
       "      <td>Senna</td>\n",
       "      <td>2021</td>\n",
       "      <td>4</td>\n",
       "      <td>789</td>\n",
       "      <td>1000000</td>\n",
       "    </tr>\n",
       "    <tr>\n",
       "      <th>1005</th>\n",
       "      <td>Pagani</td>\n",
       "      <td>Huayra</td>\n",
       "      <td>2021</td>\n",
       "      <td>6</td>\n",
       "      <td>764</td>\n",
       "      <td>2600000</td>\n",
       "    </tr>\n",
       "    <tr>\n",
       "      <th>1006</th>\n",
       "      <td>Rimac</td>\n",
       "      <td>Nevera</td>\n",
       "      <td>2021</td>\n",
       "      <td>Electric Motor</td>\n",
       "      <td>1888</td>\n",
       "      <td>2400000</td>\n",
       "    </tr>\n",
       "  </tbody>\n",
       "</table>\n",
       "<p>1007 rows × 6 columns</p>\n",
       "</div>"
      ],
      "text/plain": [
       "         Car Make Car Model  Year Engine Size (L) Horsepower  Price (in USD)\n",
       "0         Porsche       911  2022               3        379          101200\n",
       "1     Lamborghini   Huracan  2021             5.2        630          274390\n",
       "2         Ferrari   488 GTB  2022             3.9        661          333750\n",
       "3            Audi        R8  2022             5.2        562          142700\n",
       "4         McLaren      720S  2021               4        710          298000\n",
       "...           ...       ...   ...             ...        ...             ...\n",
       "1002   Koenigsegg     Jesko  2022               5       1280         3000000\n",
       "1003        Lotus     Evija  2021  Electric Motor       1972         2000000\n",
       "1004      McLaren     Senna  2021               4        789         1000000\n",
       "1005       Pagani    Huayra  2021               6        764         2600000\n",
       "1006        Rimac    Nevera  2021  Electric Motor       1888         2400000\n",
       "\n",
       "[1007 rows x 6 columns]"
      ]
     },
     "execution_count": 80,
     "metadata": {},
     "output_type": "execute_result"
    }
   ],
   "source": [
    "data"
   ]
  },
  {
   "cell_type": "code",
   "execution_count": 81,
   "id": "eef28c50-5ee4-4ccf-8079-4822e21851fa",
   "metadata": {},
   "outputs": [
    {
     "data": {
      "text/plain": [
       "Car Make            0\n",
       "Car Model           0\n",
       "Year                0\n",
       "Engine Size (L)    10\n",
       "Horsepower          0\n",
       "Price (in USD)      0\n",
       "dtype: int64"
      ]
     },
     "execution_count": 81,
     "metadata": {},
     "output_type": "execute_result"
    }
   ],
   "source": [
    "data.isnull().sum()"
   ]
  },
  {
   "cell_type": "code",
   "execution_count": 82,
   "id": "4d320309-8762-46fb-8a89-e88129ee0a9c",
   "metadata": {},
   "outputs": [],
   "source": [
    "data = data.reset_index(drop = True)"
   ]
  },
  {
   "cell_type": "code",
   "execution_count": 83,
   "id": "00051812-24f5-486d-9f53-3bda221c0183",
   "metadata": {},
   "outputs": [
    {
     "data": {
      "text/html": [
       "<div>\n",
       "<style scoped>\n",
       "    .dataframe tbody tr th:only-of-type {\n",
       "        vertical-align: middle;\n",
       "    }\n",
       "\n",
       "    .dataframe tbody tr th {\n",
       "        vertical-align: top;\n",
       "    }\n",
       "\n",
       "    .dataframe thead th {\n",
       "        text-align: right;\n",
       "    }\n",
       "</style>\n",
       "<table border=\"1\" class=\"dataframe\">\n",
       "  <thead>\n",
       "    <tr style=\"text-align: right;\">\n",
       "      <th></th>\n",
       "      <th>Car Make</th>\n",
       "      <th>Car Model</th>\n",
       "      <th>Year</th>\n",
       "      <th>Engine Size (L)</th>\n",
       "      <th>Horsepower</th>\n",
       "      <th>Price (in USD)</th>\n",
       "    </tr>\n",
       "  </thead>\n",
       "  <tbody>\n",
       "    <tr>\n",
       "      <th>0</th>\n",
       "      <td>Porsche</td>\n",
       "      <td>911</td>\n",
       "      <td>2022</td>\n",
       "      <td>3</td>\n",
       "      <td>379</td>\n",
       "      <td>101200</td>\n",
       "    </tr>\n",
       "    <tr>\n",
       "      <th>1</th>\n",
       "      <td>Lamborghini</td>\n",
       "      <td>Huracan</td>\n",
       "      <td>2021</td>\n",
       "      <td>5.2</td>\n",
       "      <td>630</td>\n",
       "      <td>274390</td>\n",
       "    </tr>\n",
       "    <tr>\n",
       "      <th>2</th>\n",
       "      <td>Ferrari</td>\n",
       "      <td>488 GTB</td>\n",
       "      <td>2022</td>\n",
       "      <td>3.9</td>\n",
       "      <td>661</td>\n",
       "      <td>333750</td>\n",
       "    </tr>\n",
       "    <tr>\n",
       "      <th>3</th>\n",
       "      <td>Audi</td>\n",
       "      <td>R8</td>\n",
       "      <td>2022</td>\n",
       "      <td>5.2</td>\n",
       "      <td>562</td>\n",
       "      <td>142700</td>\n",
       "    </tr>\n",
       "    <tr>\n",
       "      <th>4</th>\n",
       "      <td>McLaren</td>\n",
       "      <td>720S</td>\n",
       "      <td>2021</td>\n",
       "      <td>4</td>\n",
       "      <td>710</td>\n",
       "      <td>298000</td>\n",
       "    </tr>\n",
       "    <tr>\n",
       "      <th>...</th>\n",
       "      <td>...</td>\n",
       "      <td>...</td>\n",
       "      <td>...</td>\n",
       "      <td>...</td>\n",
       "      <td>...</td>\n",
       "      <td>...</td>\n",
       "    </tr>\n",
       "    <tr>\n",
       "      <th>1002</th>\n",
       "      <td>Koenigsegg</td>\n",
       "      <td>Jesko</td>\n",
       "      <td>2022</td>\n",
       "      <td>5</td>\n",
       "      <td>1280</td>\n",
       "      <td>3000000</td>\n",
       "    </tr>\n",
       "    <tr>\n",
       "      <th>1003</th>\n",
       "      <td>Lotus</td>\n",
       "      <td>Evija</td>\n",
       "      <td>2021</td>\n",
       "      <td>Electric Motor</td>\n",
       "      <td>1972</td>\n",
       "      <td>2000000</td>\n",
       "    </tr>\n",
       "    <tr>\n",
       "      <th>1004</th>\n",
       "      <td>McLaren</td>\n",
       "      <td>Senna</td>\n",
       "      <td>2021</td>\n",
       "      <td>4</td>\n",
       "      <td>789</td>\n",
       "      <td>1000000</td>\n",
       "    </tr>\n",
       "    <tr>\n",
       "      <th>1005</th>\n",
       "      <td>Pagani</td>\n",
       "      <td>Huayra</td>\n",
       "      <td>2021</td>\n",
       "      <td>6</td>\n",
       "      <td>764</td>\n",
       "      <td>2600000</td>\n",
       "    </tr>\n",
       "    <tr>\n",
       "      <th>1006</th>\n",
       "      <td>Rimac</td>\n",
       "      <td>Nevera</td>\n",
       "      <td>2021</td>\n",
       "      <td>Electric Motor</td>\n",
       "      <td>1888</td>\n",
       "      <td>2400000</td>\n",
       "    </tr>\n",
       "  </tbody>\n",
       "</table>\n",
       "<p>1007 rows × 6 columns</p>\n",
       "</div>"
      ],
      "text/plain": [
       "         Car Make Car Model  Year Engine Size (L) Horsepower  Price (in USD)\n",
       "0         Porsche       911  2022               3        379          101200\n",
       "1     Lamborghini   Huracan  2021             5.2        630          274390\n",
       "2         Ferrari   488 GTB  2022             3.9        661          333750\n",
       "3            Audi        R8  2022             5.2        562          142700\n",
       "4         McLaren      720S  2021               4        710          298000\n",
       "...           ...       ...   ...             ...        ...             ...\n",
       "1002   Koenigsegg     Jesko  2022               5       1280         3000000\n",
       "1003        Lotus     Evija  2021  Electric Motor       1972         2000000\n",
       "1004      McLaren     Senna  2021               4        789         1000000\n",
       "1005       Pagani    Huayra  2021               6        764         2600000\n",
       "1006        Rimac    Nevera  2021  Electric Motor       1888         2400000\n",
       "\n",
       "[1007 rows x 6 columns]"
      ]
     },
     "execution_count": 83,
     "metadata": {},
     "output_type": "execute_result"
    }
   ],
   "source": [
    "data"
   ]
  },
  {
   "cell_type": "code",
   "execution_count": 84,
   "id": "45f00b92-02e6-4817-896a-82132bb09ae2",
   "metadata": {},
   "outputs": [
    {
     "data": {
      "text/html": [
       "<div>\n",
       "<style scoped>\n",
       "    .dataframe tbody tr th:only-of-type {\n",
       "        vertical-align: middle;\n",
       "    }\n",
       "\n",
       "    .dataframe tbody tr th {\n",
       "        vertical-align: top;\n",
       "    }\n",
       "\n",
       "    .dataframe thead th {\n",
       "        text-align: right;\n",
       "    }\n",
       "</style>\n",
       "<table border=\"1\" class=\"dataframe\">\n",
       "  <thead>\n",
       "    <tr style=\"text-align: right;\">\n",
       "      <th></th>\n",
       "      <th>Year</th>\n",
       "      <th>Price (in USD)</th>\n",
       "    </tr>\n",
       "  </thead>\n",
       "  <tbody>\n",
       "    <tr>\n",
       "      <th>count</th>\n",
       "      <td>1007.000000</td>\n",
       "      <td>1.007000e+03</td>\n",
       "    </tr>\n",
       "    <tr>\n",
       "      <th>mean</th>\n",
       "      <td>2021.201589</td>\n",
       "      <td>3.820359e+05</td>\n",
       "    </tr>\n",
       "    <tr>\n",
       "      <th>std</th>\n",
       "      <td>2.019802</td>\n",
       "      <td>7.383227e+05</td>\n",
       "    </tr>\n",
       "    <tr>\n",
       "      <th>min</th>\n",
       "      <td>1965.000000</td>\n",
       "      <td>2.500000e+04</td>\n",
       "    </tr>\n",
       "    <tr>\n",
       "      <th>25%</th>\n",
       "      <td>2021.000000</td>\n",
       "      <td>7.180000e+04</td>\n",
       "    </tr>\n",
       "    <tr>\n",
       "      <th>50%</th>\n",
       "      <td>2021.000000</td>\n",
       "      <td>1.400000e+05</td>\n",
       "    </tr>\n",
       "    <tr>\n",
       "      <th>75%</th>\n",
       "      <td>2022.000000</td>\n",
       "      <td>2.500000e+05</td>\n",
       "    </tr>\n",
       "    <tr>\n",
       "      <th>max</th>\n",
       "      <td>2023.000000</td>\n",
       "      <td>5.200000e+06</td>\n",
       "    </tr>\n",
       "  </tbody>\n",
       "</table>\n",
       "</div>"
      ],
      "text/plain": [
       "              Year  Price (in USD)\n",
       "count  1007.000000    1.007000e+03\n",
       "mean   2021.201589    3.820359e+05\n",
       "std       2.019802    7.383227e+05\n",
       "min    1965.000000    2.500000e+04\n",
       "25%    2021.000000    7.180000e+04\n",
       "50%    2021.000000    1.400000e+05\n",
       "75%    2022.000000    2.500000e+05\n",
       "max    2023.000000    5.200000e+06"
      ]
     },
     "execution_count": 84,
     "metadata": {},
     "output_type": "execute_result"
    }
   ],
   "source": [
    "data.describe()"
   ]
  },
  {
   "cell_type": "code",
   "execution_count": 85,
   "id": "568fe311-9fde-419c-9e46-d10b5743f62f",
   "metadata": {},
   "outputs": [
    {
     "data": {
      "text/html": [
       "<div>\n",
       "<style scoped>\n",
       "    .dataframe tbody tr th:only-of-type {\n",
       "        vertical-align: middle;\n",
       "    }\n",
       "\n",
       "    .dataframe tbody tr th {\n",
       "        vertical-align: top;\n",
       "    }\n",
       "\n",
       "    .dataframe thead th {\n",
       "        text-align: right;\n",
       "    }\n",
       "</style>\n",
       "<table border=\"1\" class=\"dataframe\">\n",
       "  <thead>\n",
       "    <tr style=\"text-align: right;\">\n",
       "      <th></th>\n",
       "      <th>Car Make</th>\n",
       "      <th>Car Model</th>\n",
       "      <th>Year</th>\n",
       "      <th>Engine Size (L)</th>\n",
       "      <th>Horsepower</th>\n",
       "      <th>Price (in USD)</th>\n",
       "    </tr>\n",
       "  </thead>\n",
       "  <tbody>\n",
       "    <tr>\n",
       "      <th>541</th>\n",
       "      <td>Bugatti</td>\n",
       "      <td>Chiron Super Sport 300+</td>\n",
       "      <td>2022</td>\n",
       "      <td>8</td>\n",
       "      <td>1578</td>\n",
       "      <td>5200000</td>\n",
       "    </tr>\n",
       "    <tr>\n",
       "      <th>823</th>\n",
       "      <td>Bugatti</td>\n",
       "      <td>Chiron Super Sport 300+</td>\n",
       "      <td>2021</td>\n",
       "      <td>8</td>\n",
       "      <td>1578</td>\n",
       "      <td>5200000</td>\n",
       "    </tr>\n",
       "  </tbody>\n",
       "</table>\n",
       "</div>"
      ],
      "text/plain": [
       "    Car Make                Car Model  Year Engine Size (L) Horsepower  \\\n",
       "541  Bugatti  Chiron Super Sport 300+  2022               8       1578   \n",
       "823  Bugatti  Chiron Super Sport 300+  2021               8       1578   \n",
       "\n",
       "     Price (in USD)  \n",
       "541         5200000  \n",
       "823         5200000  "
      ]
     },
     "execution_count": 85,
     "metadata": {},
     "output_type": "execute_result"
    }
   ],
   "source": [
    "data[data['Price (in USD)']>5e6]"
   ]
  },
  {
   "cell_type": "code",
   "execution_count": 86,
   "id": "82ca7f97-5ef0-47e8-8757-42a5e799c3d5",
   "metadata": {},
   "outputs": [],
   "source": [
    "data = data[data['Price (in USD)']<5e6].reset_index(drop=True)"
   ]
  },
  {
   "cell_type": "code",
   "execution_count": 87,
   "id": "b00e9e6a-7dd8-43a8-b77b-93545522d3e3",
   "metadata": {},
   "outputs": [
    {
     "name": "stdout",
     "output_type": "stream",
     "text": [
      "<class 'pandas.core.frame.DataFrame'>\n",
      "RangeIndex: 1005 entries, 0 to 1004\n",
      "Data columns (total 6 columns):\n",
      " #   Column           Non-Null Count  Dtype \n",
      "---  ------           --------------  ----- \n",
      " 0   Car Make         1005 non-null   object\n",
      " 1   Car Model        1005 non-null   object\n",
      " 2   Year             1005 non-null   int64 \n",
      " 3   Engine Size (L)  995 non-null    object\n",
      " 4   Horsepower       1005 non-null   object\n",
      " 5   Price (in USD)   1005 non-null   int64 \n",
      "dtypes: int64(2), object(4)\n",
      "memory usage: 47.2+ KB\n"
     ]
    }
   ],
   "source": [
    "data.info()"
   ]
  },
  {
   "cell_type": "code",
   "execution_count": 88,
   "id": "0d4bf17b-8883-431a-b327-716e4224a769",
   "metadata": {},
   "outputs": [],
   "source": [
    " data = data[~data['Horsepower'].isna()]"
   ]
  },
  {
   "cell_type": "code",
   "execution_count": 89,
   "id": "60c120f7-9fbc-4439-bbfa-6e93f36c811a",
   "metadata": {},
   "outputs": [
    {
     "name": "stdout",
     "output_type": "stream",
     "text": [
      "<class 'pandas.core.frame.DataFrame'>\n",
      "Int64Index: 1005 entries, 0 to 1004\n",
      "Data columns (total 6 columns):\n",
      " #   Column           Non-Null Count  Dtype \n",
      "---  ------           --------------  ----- \n",
      " 0   Car Make         1005 non-null   object\n",
      " 1   Car Model        1005 non-null   object\n",
      " 2   Year             1005 non-null   int64 \n",
      " 3   Engine Size (L)  995 non-null    object\n",
      " 4   Horsepower       1005 non-null   object\n",
      " 5   Price (in USD)   1005 non-null   int64 \n",
      "dtypes: int64(2), object(4)\n",
      "memory usage: 55.0+ KB\n"
     ]
    }
   ],
   "source": [
    "data.info()"
   ]
  },
  {
   "cell_type": "code",
   "execution_count": 90,
   "id": "8e560b17-f02a-4803-951b-9422b4a222ad",
   "metadata": {},
   "outputs": [],
   "source": [
    "x=data.drop(columns='Price (in USD)',axis=1)\n",
    "y=data['Price (in USD)']"
   ]
  },
  {
   "cell_type": "code",
   "execution_count": 91,
   "id": "920d7eb6-843b-4a9a-9209-2ef093c93fc9",
   "metadata": {},
   "outputs": [],
   "source": [
    "x_train,x_test,y_train,y_test=train_test_split(x,y,test_size = 0.2)"
   ]
  },
  {
   "cell_type": "code",
   "execution_count": 92,
   "id": "36569105-0eb1-4f86-9f87-614954049722",
   "metadata": {},
   "outputs": [],
   "source": [
    "ohe = OneHotEncoder()"
   ]
  },
  {
   "cell_type": "code",
   "execution_count": 115,
   "id": "2dde0b69-0dea-4fa0-ac1c-25830c2bb1ad",
   "metadata": {},
   "outputs": [
    {
     "data": {
      "text/plain": [
       "[array(['Acura', 'Alfa Romeo', 'Alpine', 'Ariel', 'Aston Martin', 'Audi',\n",
       "        'BMW', 'Bentley', 'Bugatti', 'Chevrolet', 'Dodge', 'Ferrari',\n",
       "        'Ford', 'Jaguar', 'Kia', 'Koenigsegg', 'Lamborghini', 'Lexus',\n",
       "        'Lotus', 'Maserati', 'Mazda', 'McLaren', 'Mercedes-AMG',\n",
       "        'Mercedes-Benz', 'Nissan', 'Pagani', 'Pininfarina', 'Polestar',\n",
       "        'Porsche', 'Rimac', 'Rolls-Royce', 'Shelby', 'Subaru', 'TVR',\n",
       "        'Tesla', 'Toyota', 'Ultima', 'W Motors'], dtype=object),\n",
       " array(['1', '370Z', '370Z Coupe', '370Z Nismo', '400Z', '488 GTB', '4C',\n",
       "        '4C Spider', '570S', '570S Spider', '600LT', '600LT Spider',\n",
       "        '718 Boxster', '718 Cayman', '718 Cayman GT4', '720S', '765LT',\n",
       "        '812 Superfast', '911', '911 Turbo S', '918 Spyder', 'A110',\n",
       "        'AMG A45', 'AMG C 63', 'AMG C 63 S', 'AMG C43 Coupe', 'AMG C63',\n",
       "        'AMG GT', 'AMG GT 4-Door Coupe', 'AMG GT 63 S',\n",
       "        'AMG GT Black Series', 'AMG GT R', 'Artura', 'Atom', 'Aventador',\n",
       "        'Aventador S', 'Aventador SVJ', 'Battista', 'Boxster', 'C 63 AMG',\n",
       "        'C 63 S', 'C 63 S Coupe', 'C63 AMG', 'C63 S', 'C63 S AMG',\n",
       "        'C63 S Coupe', 'CLS63 AMG', 'C_Two', 'Camaro', 'Camaro SS',\n",
       "        'Camaro SS 1LE', 'Camaro SS Convertible', 'Camaro ZL1', 'Cayman',\n",
       "        'Cayman GT4', 'Challenger', 'Challenger Hellcat',\n",
       "        'Challenger Hellcat Redeye', 'Challenger R/T',\n",
       "        'Challenger SRT Hellcat', 'Challenger SRT Hellcat Redeye',\n",
       "        'Charger', 'Charger Hellcat', 'Charger SRT Hellcat', 'Chiron',\n",
       "        'Chiron Pur Sport', 'Cobra', 'Continental GT',\n",
       "        'Continental GT Speed', 'Corvette', 'Corvette Stingray',\n",
       "        'Corvette Z06', 'DB11', 'DBS Superleggera', 'Dawn', 'Evija',\n",
       "        'Evora', 'Evora GT', 'F-Type', 'F-Type R', 'F8 Spider',\n",
       "        'F8 Tributo', 'Fenyr SuperSport', 'Fenyr Supersport', 'GR Supra',\n",
       "        'GT', 'GT 63', 'GT 63 S', 'GT Black Series', 'GT-R Nismo', 'Ghost',\n",
       "        'Giulia Quadrifoglio', 'GranTurismo', 'Griffith', 'Huayra',\n",
       "        'Huayra BC', 'Huayra Roadster BC', 'Huracan', 'Jesko',\n",
       "        'Jesko Absolut', 'LC', 'LC 500', 'Lykan Hypersport', 'M2', 'M2 CS',\n",
       "        'M2 Competition', 'M4', 'M4 Competition', 'M4 Coupe', 'M5',\n",
       "        'M5 Competition', 'M8', 'MC20', 'MX-5 Miata', 'Model S',\n",
       "        'Model S Plaid', 'Mustang', 'Mustang GT', 'Mustang Mach 1',\n",
       "        'Mustang Shelby GT500', 'NSX', 'Nevera', 'Panamera',\n",
       "        'Panamera GTS', 'Panamera Turbo', 'Panamera Turbo S',\n",
       "        'Panamera Turbo S E-Hybrid', 'Portofino', 'Portofino M', 'R8',\n",
       "        'R8 Spyder', 'RS', 'RS 3', 'RS 5', 'RS 5 Coupe', 'RS 6',\n",
       "        'RS 6 Avant', 'RS 7', 'RS 7 Sportback', 'RS3', 'RS5', 'RS5 Coupe',\n",
       "        'RS6', 'RS6 Avant', 'RS7', 'RS7 Sportback', 'Roadster', 'Roma',\n",
       "        'S5', 'S63 AMG', 'SF90 Stradale', 'SL', 'SL 63 AMG', 'SLC 43',\n",
       "        'SLS AMG', 'SLS AMG Black Series', 'Senna', 'Sián', 'Speedtail',\n",
       "        'Stinger', 'Supra', 'TT RS', 'TT RS Coupe', 'Taycan', 'Taycan 4S',\n",
       "        'Taycan Turbo S', 'Urus', 'Vantage', 'Viper', 'Viper ACR',\n",
       "        'WRX STI', 'Wraith', 'Z4 M40i', 'Z4 Roadster', 'i8'], dtype=object),\n",
       " array(['-', '0', '1.5', '1.5 + Electric', '1.7', '1.8', '2',\n",
       "        '2.0 (Electric)', '2.3', '2.5', '2.9', '3', '3.3', '3.5', '3.6',\n",
       "        '3.7', '3.8', '3.9', '4', '4.0 (Hybrid)', '4.4', '4.6', '4.7', '5',\n",
       "        '5.2', '5.5', '5.7', '6', '6.2', '6.3', '6.4', '6.5', '6.6', '6.7',\n",
       "        '6.8', '7', '8', '8.4', 'Electric', 'Electric (100 kWh)',\n",
       "        'Electric (93 kWh)', 'Electric (tri-motor)', 'Electric Motor',\n",
       "        'Hybrid', 'Hybrid (4.0)', nan], dtype=object),\n",
       " array(['1,000+', '1,020', '1,500', '10,000', '10,000+', '1000', '1000+',\n",
       "        '10000+', '1020', '1035', '1200', '1262', '1280', '1479', '1500',\n",
       "        '1600', '181', '1872', '1874', '1888', '1914', '1972', '1973',\n",
       "        '2000', '237', '255', '288', '296', '300', '305', '310', '320',\n",
       "        '325', '332', '349', '350', '365', '368', '369', '372', '379',\n",
       "        '380', '382', '385', '394', '400', '401', '402', '405', '414',\n",
       "        '416', '429', '435', '444', '454', '455', '460', '469', '471',\n",
       "        '473', '480', '482', '485', '490', '495', '500', '503', '505',\n",
       "        '523', '542', '550', '562', '563', '573', '575', '577', '583',\n",
       "        '591', '592', '600', '603', '611', '612', '616', '617', '620',\n",
       "        '621', '622', '624', '625', '626', '630', '640', '641', '645',\n",
       "        '647', '650', '660', '661', '671', '689', '690', '707', '710',\n",
       "        '715', '717', '720', '729', '730', '750', '755', '759', '760',\n",
       "        '764', '770', '780', '789', '791', '797', '800', '819', '887',\n",
       "        '986'], dtype=object)]"
      ]
     },
     "execution_count": 115,
     "metadata": {},
     "output_type": "execute_result"
    }
   ],
   "source": [
    "ohe.categories_"
   ]
  },
  {
   "cell_type": "code",
   "execution_count": 116,
   "id": "b2fd63f1-c12d-484a-a9e0-123dc320b91b",
   "metadata": {},
   "outputs": [
    {
     "data": {
      "text/plain": [
       "OneHotEncoder()"
      ]
     },
     "execution_count": 116,
     "metadata": {},
     "output_type": "execute_result"
    }
   ],
   "source": [
    "ohe.fit(x[['Car Make','Car Model','Engine Size (L)','Horsepower']])"
   ]
  },
  {
   "cell_type": "code",
   "execution_count": 117,
   "id": "c6ba364a-6ac0-4652-b652-834cedc4894f",
   "metadata": {},
   "outputs": [],
   "source": [
    "column_trans = make_column_transformer((OneHotEncoder(categories = ohe.categories_),['Car Make','Car Model','Engine Size (L)','Horsepower']),remainder='passthrough')"
   ]
  },
  {
   "cell_type": "code",
   "execution_count": 118,
   "id": "5ea7950c-ba4e-4db1-ab62-734b21a16695",
   "metadata": {},
   "outputs": [],
   "source": [
    "lr = LinearRegression()"
   ]
  },
  {
   "cell_type": "code",
   "execution_count": 119,
   "id": "fcbc25ec-e183-427c-85e4-b164766919c6",
   "metadata": {},
   "outputs": [],
   "source": [
    "pipe=make_pipeline(column_trans,lr)"
   ]
  },
  {
   "cell_type": "code",
   "execution_count": 120,
   "id": "b045c60f-199f-4242-83bb-5960f6deea48",
   "metadata": {},
   "outputs": [
    {
     "data": {
      "text/plain": [
       "Pipeline(steps=[('columntransformer',\n",
       "                 ColumnTransformer(remainder='passthrough',\n",
       "                                   transformers=[('onehotencoder',\n",
       "                                                  OneHotEncoder(categories=[array(['Acura', 'Alfa Romeo', 'Alpine', 'Ariel', 'Aston Martin', 'Audi',\n",
       "       'BMW', 'Bentley', 'Bugatti', 'Chevrolet', 'Dodge', 'Ferrari',\n",
       "       'Ford', 'Jaguar', 'Kia', 'Koenigsegg', 'Lamborghini', 'Lexus',\n",
       "       'Lotus', 'Maserati', 'Mazda', 'McLaren'...\n",
       "       '591', '592', '600', '603', '611', '612', '616', '617', '620',\n",
       "       '621', '622', '624', '625', '626', '630', '640', '641', '645',\n",
       "       '647', '650', '660', '661', '671', '689', '690', '707', '710',\n",
       "       '715', '717', '720', '729', '730', '750', '755', '759', '760',\n",
       "       '764', '770', '780', '789', '791', '797', '800', '819', '887',\n",
       "       '986'], dtype=object)]),\n",
       "                                                  ['Car Make', 'Car Model',\n",
       "                                                   'Engine Size (L)',\n",
       "                                                   'Horsepower'])])),\n",
       "                ('linearregression', LinearRegression())])"
      ]
     },
     "execution_count": 120,
     "metadata": {},
     "output_type": "execute_result"
    }
   ],
   "source": [
    "pipe.fit(x_train,y_train)"
   ]
  },
  {
   "cell_type": "code",
   "execution_count": 121,
   "id": "e360cfc3-c461-4b8a-9b37-14c0f3193780",
   "metadata": {},
   "outputs": [],
   "source": [
    "y_pred = pipe.predict(x_test)"
   ]
  },
  {
   "cell_type": "code",
   "execution_count": 122,
   "id": "4d829147-7c7b-45e0-993a-dc636c48eb67",
   "metadata": {},
   "outputs": [
    {
     "data": {
      "text/plain": [
       "array([2379090.25825974,   77493.97535595,  101538.83259714,\n",
       "         61311.7064727 ,  101538.83259714,  504315.83025837,\n",
       "        103586.92025527,  188786.8972149 ,  501751.80741976,\n",
       "        324995.17335932,   95187.78213028,   92953.38134412,\n",
       "        155574.78155777,  100322.85480909,  240055.20313342,\n",
       "        328744.87784979,  202535.86639979,   63447.35805441,\n",
       "         86196.18717492,  219057.66668743, 3004032.04102143,\n",
       "        501751.80741976, 2897483.07976903,   68481.77837743,\n",
       "        200036.47579905,  221603.59076907,  273479.59445462,\n",
       "         89840.36141483, 2374995.84164271,   95112.75622091,\n",
       "         63771.49974384,   94874.78173785,  177959.2683533 ,\n",
       "         75858.06342571, 2818993.09828429,   63447.35805441,\n",
       "        213283.87643711,   31782.78800515,  615737.38761613,\n",
       "         89840.36141483,   68475.42406742, 2705042.52071395,\n",
       "        227462.1731693 ,  129983.8750518 ,  202330.59130232,\n",
       "        215170.23919816,  216606.46024277,    4216.16748687,\n",
       "        501751.80741976,  248873.07270806, 3079805.14132884,\n",
       "        425134.05279255,  111748.03717721,   59752.06017175,\n",
       "         30641.56606123,  297999.23359573,  226829.47454871,\n",
       "        146074.63878756,  620771.80793916,  217596.92521898,\n",
       "        220299.18482774,  425134.05279255,   59368.81761951,\n",
       "        501751.80741976,  220204.65952118,  615737.38761613,\n",
       "        531404.76618494,  250505.7067659 ,   88943.96646154,\n",
       "        144536.20926653,   68481.77837743,   75394.87246936,\n",
       "         78239.44833007,  202906.12208281,  202330.59130232,\n",
       "       2902517.50009205,  103956.32768732,  313565.95446857,\n",
       "        223951.89722971,  615737.38761613,  496717.38709673,\n",
       "         74878.63088335,  180726.70733059,  101538.83259714,\n",
       "        145405.04030308,   63441.0037444 , 2998997.6206984 ,\n",
       "        146074.63878756, 2446035.73925667,   69908.21108989,\n",
       "        278514.01477765,  650607.59089679,   63447.35805441,\n",
       "         30641.56606123,  197296.17097929,  219057.66668743,\n",
       "         39709.44694715,  248873.07270806,  -31359.0553392 ,\n",
       "         47243.8036782 ,  255129.05753043,  211572.03991975,\n",
       "        116782.45750024,   89840.36141483,  107643.29013075,\n",
       "        501751.80741976,   63447.35805441,   76983.49796856,\n",
       "         39709.44694715,   73259.32417716, 2902517.50009205,\n",
       "        434088.93569745,  150159.01656954,  101538.83259714,\n",
       "        496717.38709673,   68224.90385413,  615737.38761613,\n",
       "         89840.36141483,   59752.06017175,  144536.20926653,\n",
       "        160609.20188079,  191513.91908222,   58473.94556481,\n",
       "        197296.17097929,  220299.18482774,  136005.79814151,\n",
       "         63328.653667  ,  114355.22301646,  101538.83259714,\n",
       "       2897483.07976903,  141098.66959725,  144536.20926653,\n",
       "         94874.78173785,  154110.64468683,  286929.51244309,\n",
       "         63441.0037444 ,  138521.4663946 ,  211572.03991975,\n",
       "        197296.17097929,  212562.50489595,  308531.53414554,\n",
       "        155574.78155777,   98552.49993225,   52254.58371789,\n",
       "        178901.48619104, 3084839.56165186,   80750.60519512,\n",
       "       2999978.46897797,  509350.25058139,  104713.53060466,\n",
       "        277244.40540829,   63447.35805441,   99679.11028164,\n",
       "        668756.17675705,   39709.44694715,   63441.0037444 ,\n",
       "         68224.90385413, 1584297.65783577,   63447.35805441,\n",
       "         39154.46535642,  273479.59445462,  496640.42764336,\n",
       "        111748.03717721,  308531.53414554,  293289.22661305,\n",
       "         94874.78173785,   47243.8036782 ,  615737.38761613,\n",
       "        155574.78155777,  183935.90651406,   63447.35805441,\n",
       "         63441.0037444 ,  372504.80470974,  104713.53060466,\n",
       "        197296.17097929,  313565.95446857,  406700.3653258 ,\n",
       "        329992.89598586, 2818993.09828429,  212562.50489595,\n",
       "        197296.17097929,   63447.35805441,  141040.21846454,\n",
       "        425134.05279255,   30641.56606123,  141040.21846454,\n",
       "         86196.18717492,  215170.23919816,  100322.85480909,\n",
       "        408755.74631617,   39709.44694715,   63771.49974384,\n",
       "       3084839.56165186, 2998997.6206984 ,   62703.67362553,\n",
       "        192492.80558798,  160609.20188079,  211572.03991975,\n",
       "        120003.73437516,   73259.32417716,   64628.07997067])"
      ]
     },
     "execution_count": 122,
     "metadata": {},
     "output_type": "execute_result"
    }
   ],
   "source": [
    "y_pred"
   ]
  },
  {
   "cell_type": "code",
   "execution_count": 123,
   "id": "f7c61d56-8f81-4e8c-9400-da06fc3c0685",
   "metadata": {},
   "outputs": [
    {
     "data": {
      "text/plain": [
       "0.992962263934893"
      ]
     },
     "execution_count": 123,
     "metadata": {},
     "output_type": "execute_result"
    }
   ],
   "source": [
    "r2_score(y_test,y_pred)"
   ]
  },
  {
   "cell_type": "code",
   "execution_count": 136,
   "id": "e70f8882-14fb-4114-98cf-c44a5449c0db",
   "metadata": {},
   "outputs": [],
   "source": [
    "scores=[]\n",
    "for i in range(10):\n",
    "    x_train,x_test,y_train,y_test = train_test_split(x,y,test_size = 0.2,random_state = i)\n",
    "    lr = LinearRegression()\n",
    "    pipe = make_pipeline(column_trans,lr)\n",
    "    pipe.fit(x_train,y_train)\n",
    "    y_pred = pipe.predict(x_test)\n",
    "    scores.append(r2_score(y_test,y_pred))"
   ]
  },
  {
   "cell_type": "code",
   "execution_count": 137,
   "id": "771f2b11-b7d2-4a1f-8edd-4b75bfbf54a6",
   "metadata": {},
   "outputs": [
    {
     "name": "stdout",
     "output_type": "stream",
     "text": [
      "0.9128368937008725 9\n"
     ]
    }
   ],
   "source": [
    "print(r2_score(y_test,y_pred),i)"
   ]
  },
  {
   "cell_type": "code",
   "execution_count": 138,
   "id": "c4c4713d-538b-4907-b25b-bf94e24638ce",
   "metadata": {},
   "outputs": [
    {
     "data": {
      "text/plain": [
       "1"
      ]
     },
     "execution_count": 138,
     "metadata": {},
     "output_type": "execute_result"
    }
   ],
   "source": [
    "np.argmax(scores)"
   ]
  },
  {
   "cell_type": "code",
   "execution_count": 139,
   "id": "306337ab-b166-4b55-b2e5-51d771b88169",
   "metadata": {},
   "outputs": [
    {
     "data": {
      "text/plain": [
       "0.9920388626380199"
      ]
     },
     "execution_count": 139,
     "metadata": {},
     "output_type": "execute_result"
    }
   ],
   "source": [
    "scores[np.argmax(scores)]"
   ]
  },
  {
   "cell_type": "code",
   "execution_count": 140,
   "id": "0cad539f-ffcc-4318-a73c-73f596b5510b",
   "metadata": {},
   "outputs": [],
   "source": [
    "    x_train,x_test,y_train,y_test = train_test_split(x,y,test_size = 0.2,random_state = np.argmax(scores))\n",
    "    lr = LinearRegression()\n",
    "    pipe = make_pipeline(column_trans,lr)\n",
    "    pipe.fit(x_train,y_train)\n",
    "    y_pred = pipe.predict(x_test)"
   ]
  },
  {
   "cell_type": "code",
   "execution_count": 141,
   "id": "715607d1-0184-42a8-a9ad-419fca6c36de",
   "metadata": {},
   "outputs": [
    {
     "data": {
      "text/plain": [
       "0.9920388626380199"
      ]
     },
     "execution_count": 141,
     "metadata": {},
     "output_type": "execute_result"
    }
   ],
   "source": [
    "r2_score(y_test,y_pred)"
   ]
  },
  {
   "cell_type": "code",
   "execution_count": 142,
   "id": "036bf8ce-088e-4760-969f-815d61651232",
   "metadata": {},
   "outputs": [],
   "source": [
    "data.to_csv('cardata.csv')"
   ]
  },
  {
   "cell_type": "code",
   "execution_count": 143,
   "id": "57d66369-3fd1-44fb-a147-d2437a465433",
   "metadata": {},
   "outputs": [],
   "source": [
    "import pickle"
   ]
  },
  {
   "cell_type": "code",
   "execution_count": 144,
   "id": "af638e86-e366-4621-97c8-e6eca68d35d1",
   "metadata": {},
   "outputs": [],
   "source": [
    "pickle.dump(pipe,open('LinearRegressionModel.pkl','wb'))"
   ]
  },
  {
   "cell_type": "code",
   "execution_count": 145,
   "id": "5340494f-ae9b-4f02-a8db-5b088b84a19b",
   "metadata": {},
   "outputs": [
    {
     "ename": "SyntaxError",
     "evalue": "unexpected EOF while parsing (11919432.py, line 1)",
     "output_type": "error",
     "traceback": [
      "\u001b[0;36m  File \u001b[0;32m\"/var/folders/sm/qfxtjw3n045_k8ppdp9msz4c0000gn/T/ipykernel_77760/11919432.py\"\u001b[0;36m, line \u001b[0;32m1\u001b[0m\n\u001b[0;31m    pipe.predict(pd.DataFrame([['Porsche','911','2022']]),columns=['Car Make','Car Model','Year']\u001b[0m\n\u001b[0m                                                                                                 ^\u001b[0m\n\u001b[0;31mSyntaxError\u001b[0m\u001b[0;31m:\u001b[0m unexpected EOF while parsing\n"
     ]
    }
   ],
   "source": [
    "pipe.predict(pd.DataFrame([['Porsche','911','2022']]),columns=['Car Make','Car Model','Year']"
   ]
  },
  {
   "cell_type": "code",
   "execution_count": null,
   "id": "4ba00b56-df9e-4559-891b-10be58eddcc0",
   "metadata": {},
   "outputs": [],
   "source": []
  }
 ],
 "metadata": {
  "kernelspec": {
   "display_name": "Python 3 (ipykernel)",
   "language": "python",
   "name": "python3"
  },
  "language_info": {
   "codemirror_mode": {
    "name": "ipython",
    "version": 3
   },
   "file_extension": ".py",
   "mimetype": "text/x-python",
   "name": "python",
   "nbconvert_exporter": "python",
   "pygments_lexer": "ipython3",
   "version": "3.9.13"
  }
 },
 "nbformat": 4,
 "nbformat_minor": 5
}
